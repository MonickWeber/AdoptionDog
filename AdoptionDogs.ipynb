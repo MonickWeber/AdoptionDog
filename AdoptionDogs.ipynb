{
  "nbformat": 4,
  "nbformat_minor": 0,
  "metadata": {
    "colab": {
      "name": "AdoptionDogs.ipynb",
      "provenance": [],
      "authorship_tag": "ABX9TyMvVvETfxbSWMLkxeyQWk3l",
      "include_colab_link": true
    },
    "kernelspec": {
      "name": "python3",
      "display_name": "Python 3"
    }
  },
  "cells": [
    {
      "cell_type": "markdown",
      "metadata": {
        "id": "view-in-github",
        "colab_type": "text"
      },
      "source": [
        "<a href=\"https://colab.research.google.com/github/MonickWeber/AdoptionDog/blob/master/AdoptionDogs.ipynb\" target=\"_parent\"><img src=\"https://colab.research.google.com/assets/colab-badge.svg\" alt=\"Open In Colab\"/></a>"
      ]
    },
    {
      "cell_type": "code",
      "metadata": {
        "id": "SHZAIR1NLbDY",
        "colab_type": "code",
        "outputId": "2f076c8c-46da-4b34-e7a4-a532fb6416f1",
        "colab": {
          "base_uri": "https://localhost:8080/",
          "height": 343
        }
      },
      "source": [
        "import pandas as pd\n",
        "import matplotlib.pylab as plt\n",
        "import numpy as np\n",
        "\n",
        "adoption = pd.read_csv('https://raw.githubusercontent.com/MonickWeber/AdoptionDog/master/Dogdata.csv', sep=';')\n",
        "adoption.head()"
      ],
      "execution_count": 1,
      "outputs": [
        {
          "output_type": "execute_result",
          "data": {
            "text/html": [
              "<div>\n",
              "<style scoped>\n",
              "    .dataframe tbody tr th:only-of-type {\n",
              "        vertical-align: middle;\n",
              "    }\n",
              "\n",
              "    .dataframe tbody tr th {\n",
              "        vertical-align: top;\n",
              "    }\n",
              "\n",
              "    .dataframe thead th {\n",
              "        text-align: right;\n",
              "    }\n",
              "</style>\n",
              "<table border=\"1\" class=\"dataframe\">\n",
              "  <thead>\n",
              "    <tr style=\"text-align: right;\">\n",
              "      <th></th>\n",
              "      <th>ID</th>\n",
              "      <th>age</th>\n",
              "      <th>sex</th>\n",
              "      <th>breed</th>\n",
              "      <th>date_found</th>\n",
              "      <th>adoptable_from</th>\n",
              "      <th>posted</th>\n",
              "      <th>color</th>\n",
              "      <th>coat</th>\n",
              "      <th>size</th>\n",
              "      <th>neutered</th>\n",
              "      <th>housebroken</th>\n",
              "      <th>likes_people</th>\n",
              "      <th>likes_children</th>\n",
              "      <th>get_along_males</th>\n",
              "      <th>get_along_females</th>\n",
              "      <th>get_along_cats</th>\n",
              "      <th>keep_in</th>\n",
              "    </tr>\n",
              "  </thead>\n",
              "  <tbody>\n",
              "    <tr>\n",
              "      <th>0</th>\n",
              "      <td>0</td>\n",
              "      <td>0.25</td>\n",
              "      <td>female</td>\n",
              "      <td>Unknown Mix</td>\n",
              "      <td>2019-12-10</td>\n",
              "      <td>2019-12-11</td>\n",
              "      <td>2019-12-11</td>\n",
              "      <td>red</td>\n",
              "      <td>short</td>\n",
              "      <td>small</td>\n",
              "      <td>no</td>\n",
              "      <td>NaN</td>\n",
              "      <td>NaN</td>\n",
              "      <td>NaN</td>\n",
              "      <td>NaN</td>\n",
              "      <td>NaN</td>\n",
              "      <td>NaN</td>\n",
              "      <td>NaN</td>\n",
              "    </tr>\n",
              "    <tr>\n",
              "      <th>1</th>\n",
              "      <td>1</td>\n",
              "      <td>0.17</td>\n",
              "      <td>female</td>\n",
              "      <td>Unknown Mix</td>\n",
              "      <td>2019-12-01</td>\n",
              "      <td>2019-12-01</td>\n",
              "      <td>2019-12-09</td>\n",
              "      <td>black and white</td>\n",
              "      <td>short</td>\n",
              "      <td>small</td>\n",
              "      <td>no</td>\n",
              "      <td>NaN</td>\n",
              "      <td>yes</td>\n",
              "      <td>yes</td>\n",
              "      <td>yes</td>\n",
              "      <td>yes</td>\n",
              "      <td>yes</td>\n",
              "      <td>NaN</td>\n",
              "    </tr>\n",
              "    <tr>\n",
              "      <th>2</th>\n",
              "      <td>2</td>\n",
              "      <td>4.00</td>\n",
              "      <td>male</td>\n",
              "      <td>Unknown Mix</td>\n",
              "      <td>2019-12-08</td>\n",
              "      <td>2019-12-23</td>\n",
              "      <td>2019-12-08</td>\n",
              "      <td>saddle back</td>\n",
              "      <td>short</td>\n",
              "      <td>medium</td>\n",
              "      <td>no</td>\n",
              "      <td>NaN</td>\n",
              "      <td>NaN</td>\n",
              "      <td>NaN</td>\n",
              "      <td>NaN</td>\n",
              "      <td>NaN</td>\n",
              "      <td>NaN</td>\n",
              "      <td>NaN</td>\n",
              "    </tr>\n",
              "    <tr>\n",
              "      <th>3</th>\n",
              "      <td>3</td>\n",
              "      <td>1.00</td>\n",
              "      <td>male</td>\n",
              "      <td>Unknown Mix</td>\n",
              "      <td>2019-12-08</td>\n",
              "      <td>2019-12-23</td>\n",
              "      <td>2019-12-08</td>\n",
              "      <td>yellow-brown</td>\n",
              "      <td>medium</td>\n",
              "      <td>medium</td>\n",
              "      <td>no</td>\n",
              "      <td>NaN</td>\n",
              "      <td>NaN</td>\n",
              "      <td>NaN</td>\n",
              "      <td>NaN</td>\n",
              "      <td>NaN</td>\n",
              "      <td>NaN</td>\n",
              "      <td>NaN</td>\n",
              "    </tr>\n",
              "    <tr>\n",
              "      <th>4</th>\n",
              "      <td>4</td>\n",
              "      <td>2.00</td>\n",
              "      <td>female</td>\n",
              "      <td>French Bulldog Mix</td>\n",
              "      <td>2019-12-10</td>\n",
              "      <td>2019-12-11</td>\n",
              "      <td>2019-12-11</td>\n",
              "      <td>black</td>\n",
              "      <td>short</td>\n",
              "      <td>small</td>\n",
              "      <td>no</td>\n",
              "      <td>NaN</td>\n",
              "      <td>NaN</td>\n",
              "      <td>NaN</td>\n",
              "      <td>NaN</td>\n",
              "      <td>NaN</td>\n",
              "      <td>NaN</td>\n",
              "      <td>NaN</td>\n",
              "    </tr>\n",
              "  </tbody>\n",
              "</table>\n",
              "</div>"
            ],
            "text/plain": [
              "   ID   age     sex  ... get_along_females get_along_cats keep_in\n",
              "0   0  0.25  female  ...               NaN            NaN     NaN\n",
              "1   1  0.17  female  ...               yes            yes     NaN\n",
              "2   2  4.00    male  ...               NaN            NaN     NaN\n",
              "3   3  1.00    male  ...               NaN            NaN     NaN\n",
              "4   4  2.00  female  ...               NaN            NaN     NaN\n",
              "\n",
              "[5 rows x 18 columns]"
            ]
          },
          "metadata": {
            "tags": []
          },
          "execution_count": 1
        }
      ]
    },
    {
      "cell_type": "code",
      "metadata": {
        "id": "n5-jDrdQNIHM",
        "colab_type": "code",
        "outputId": "47f67937-e652-4a16-aad7-a7083b4db5e7",
        "colab": {
          "base_uri": "https://localhost:8080/",
          "height": 34
        }
      },
      "source": [
        "adoption.shape"
      ],
      "execution_count": 2,
      "outputs": [
        {
          "output_type": "execute_result",
          "data": {
            "text/plain": [
              "(2934, 18)"
            ]
          },
          "metadata": {
            "tags": []
          },
          "execution_count": 2
        }
      ]
    },
    {
      "cell_type": "code",
      "metadata": {
        "id": "KZUTXA1ONSjc",
        "colab_type": "code",
        "outputId": "97782875-b872-470d-9174-05e70e26f1c8",
        "colab": {
          "base_uri": "https://localhost:8080/",
          "height": 102
        }
      },
      "source": [
        "adoption.columns"
      ],
      "execution_count": 3,
      "outputs": [
        {
          "output_type": "execute_result",
          "data": {
            "text/plain": [
              "Index(['ID', 'age', 'sex', 'breed', 'date_found', 'adoptable_from', 'posted',\n",
              "       'color', 'coat', 'size', 'neutered', 'housebroken', 'likes_people',\n",
              "       'likes_children', 'get_along_males', 'get_along_females',\n",
              "       'get_along_cats', 'keep_in'],\n",
              "      dtype='object')"
            ]
          },
          "metadata": {
            "tags": []
          },
          "execution_count": 3
        }
      ]
    },
    {
      "cell_type": "code",
      "metadata": {
        "id": "lRiGBb_0QBsu",
        "colab_type": "code",
        "outputId": "af896bcc-b375-4b29-fd31-5b098546eb7d",
        "colab": {
          "base_uri": "https://localhost:8080/",
          "height": 297
        }
      },
      "source": [
        "adoption.describe()"
      ],
      "execution_count": 4,
      "outputs": [
        {
          "output_type": "execute_result",
          "data": {
            "text/html": [
              "<div>\n",
              "<style scoped>\n",
              "    .dataframe tbody tr th:only-of-type {\n",
              "        vertical-align: middle;\n",
              "    }\n",
              "\n",
              "    .dataframe tbody tr th {\n",
              "        vertical-align: top;\n",
              "    }\n",
              "\n",
              "    .dataframe thead th {\n",
              "        text-align: right;\n",
              "    }\n",
              "</style>\n",
              "<table border=\"1\" class=\"dataframe\">\n",
              "  <thead>\n",
              "    <tr style=\"text-align: right;\">\n",
              "      <th></th>\n",
              "      <th>ID</th>\n",
              "      <th>age</th>\n",
              "    </tr>\n",
              "  </thead>\n",
              "  <tbody>\n",
              "    <tr>\n",
              "      <th>count</th>\n",
              "      <td>2934.00000</td>\n",
              "      <td>2934.000000</td>\n",
              "    </tr>\n",
              "    <tr>\n",
              "      <th>mean</th>\n",
              "      <td>1466.50000</td>\n",
              "      <td>8.574052</td>\n",
              "    </tr>\n",
              "    <tr>\n",
              "      <th>std</th>\n",
              "      <td>847.11717</td>\n",
              "      <td>4.138179</td>\n",
              "    </tr>\n",
              "    <tr>\n",
              "      <th>min</th>\n",
              "      <td>0.00000</td>\n",
              "      <td>0.150000</td>\n",
              "    </tr>\n",
              "    <tr>\n",
              "      <th>25%</th>\n",
              "      <td>733.25000</td>\n",
              "      <td>5.830000</td>\n",
              "    </tr>\n",
              "    <tr>\n",
              "      <th>50%</th>\n",
              "      <td>1466.50000</td>\n",
              "      <td>8.670000</td>\n",
              "    </tr>\n",
              "    <tr>\n",
              "      <th>75%</th>\n",
              "      <td>2199.75000</td>\n",
              "      <td>11.250000</td>\n",
              "    </tr>\n",
              "    <tr>\n",
              "      <th>max</th>\n",
              "      <td>2933.00000</td>\n",
              "      <td>21.920000</td>\n",
              "    </tr>\n",
              "  </tbody>\n",
              "</table>\n",
              "</div>"
            ],
            "text/plain": [
              "               ID          age\n",
              "count  2934.00000  2934.000000\n",
              "mean   1466.50000     8.574052\n",
              "std     847.11717     4.138179\n",
              "min       0.00000     0.150000\n",
              "25%     733.25000     5.830000\n",
              "50%    1466.50000     8.670000\n",
              "75%    2199.75000    11.250000\n",
              "max    2933.00000    21.920000"
            ]
          },
          "metadata": {
            "tags": []
          },
          "execution_count": 4
        }
      ]
    },
    {
      "cell_type": "code",
      "metadata": {
        "id": "Bcm8bRiSbeud",
        "colab_type": "code",
        "outputId": "87e35b00-c9bc-4271-e429-c64dfce7fc77",
        "colab": {
          "base_uri": "https://localhost:8080/",
          "height": 85
        }
      },
      "source": [
        "adoption.groupby('sex')['ID'].count().sort_values(ascending = False) #funcao pra ordernar: sort"
      ],
      "execution_count": 5,
      "outputs": [
        {
          "output_type": "execute_result",
          "data": {
            "text/plain": [
              "sex\n",
              "male      1679\n",
              "female    1255\n",
              "Name: ID, dtype: int64"
            ]
          },
          "metadata": {
            "tags": []
          },
          "execution_count": 5
        }
      ]
    },
    {
      "cell_type": "code",
      "metadata": {
        "id": "FQf7zB0pbe0T",
        "colab_type": "code",
        "outputId": "c006433b-6293-48c7-8085-8c40a578b3bb",
        "colab": {
          "base_uri": "https://localhost:8080/",
          "height": 677
        }
      },
      "source": [
        "adoption = adoption.round({'age':0}) #arredondei a coluna age com 0 casas decimais e substitui na minha tabela inicial\n",
        "adoption"
      ],
      "execution_count": 6,
      "outputs": [
        {
          "output_type": "execute_result",
          "data": {
            "text/html": [
              "<div>\n",
              "<style scoped>\n",
              "    .dataframe tbody tr th:only-of-type {\n",
              "        vertical-align: middle;\n",
              "    }\n",
              "\n",
              "    .dataframe tbody tr th {\n",
              "        vertical-align: top;\n",
              "    }\n",
              "\n",
              "    .dataframe thead th {\n",
              "        text-align: right;\n",
              "    }\n",
              "</style>\n",
              "<table border=\"1\" class=\"dataframe\">\n",
              "  <thead>\n",
              "    <tr style=\"text-align: right;\">\n",
              "      <th></th>\n",
              "      <th>ID</th>\n",
              "      <th>age</th>\n",
              "      <th>sex</th>\n",
              "      <th>breed</th>\n",
              "      <th>date_found</th>\n",
              "      <th>adoptable_from</th>\n",
              "      <th>posted</th>\n",
              "      <th>color</th>\n",
              "      <th>coat</th>\n",
              "      <th>size</th>\n",
              "      <th>neutered</th>\n",
              "      <th>housebroken</th>\n",
              "      <th>likes_people</th>\n",
              "      <th>likes_children</th>\n",
              "      <th>get_along_males</th>\n",
              "      <th>get_along_females</th>\n",
              "      <th>get_along_cats</th>\n",
              "      <th>keep_in</th>\n",
              "    </tr>\n",
              "  </thead>\n",
              "  <tbody>\n",
              "    <tr>\n",
              "      <th>0</th>\n",
              "      <td>0</td>\n",
              "      <td>0.0</td>\n",
              "      <td>female</td>\n",
              "      <td>Unknown Mix</td>\n",
              "      <td>2019-12-10</td>\n",
              "      <td>2019-12-11</td>\n",
              "      <td>2019-12-11</td>\n",
              "      <td>red</td>\n",
              "      <td>short</td>\n",
              "      <td>small</td>\n",
              "      <td>no</td>\n",
              "      <td>NaN</td>\n",
              "      <td>NaN</td>\n",
              "      <td>NaN</td>\n",
              "      <td>NaN</td>\n",
              "      <td>NaN</td>\n",
              "      <td>NaN</td>\n",
              "      <td>NaN</td>\n",
              "    </tr>\n",
              "    <tr>\n",
              "      <th>1</th>\n",
              "      <td>1</td>\n",
              "      <td>0.0</td>\n",
              "      <td>female</td>\n",
              "      <td>Unknown Mix</td>\n",
              "      <td>2019-12-01</td>\n",
              "      <td>2019-12-01</td>\n",
              "      <td>2019-12-09</td>\n",
              "      <td>black and white</td>\n",
              "      <td>short</td>\n",
              "      <td>small</td>\n",
              "      <td>no</td>\n",
              "      <td>NaN</td>\n",
              "      <td>yes</td>\n",
              "      <td>yes</td>\n",
              "      <td>yes</td>\n",
              "      <td>yes</td>\n",
              "      <td>yes</td>\n",
              "      <td>NaN</td>\n",
              "    </tr>\n",
              "    <tr>\n",
              "      <th>2</th>\n",
              "      <td>2</td>\n",
              "      <td>4.0</td>\n",
              "      <td>male</td>\n",
              "      <td>Unknown Mix</td>\n",
              "      <td>2019-12-08</td>\n",
              "      <td>2019-12-23</td>\n",
              "      <td>2019-12-08</td>\n",
              "      <td>saddle back</td>\n",
              "      <td>short</td>\n",
              "      <td>medium</td>\n",
              "      <td>no</td>\n",
              "      <td>NaN</td>\n",
              "      <td>NaN</td>\n",
              "      <td>NaN</td>\n",
              "      <td>NaN</td>\n",
              "      <td>NaN</td>\n",
              "      <td>NaN</td>\n",
              "      <td>NaN</td>\n",
              "    </tr>\n",
              "    <tr>\n",
              "      <th>3</th>\n",
              "      <td>3</td>\n",
              "      <td>1.0</td>\n",
              "      <td>male</td>\n",
              "      <td>Unknown Mix</td>\n",
              "      <td>2019-12-08</td>\n",
              "      <td>2019-12-23</td>\n",
              "      <td>2019-12-08</td>\n",
              "      <td>yellow-brown</td>\n",
              "      <td>medium</td>\n",
              "      <td>medium</td>\n",
              "      <td>no</td>\n",
              "      <td>NaN</td>\n",
              "      <td>NaN</td>\n",
              "      <td>NaN</td>\n",
              "      <td>NaN</td>\n",
              "      <td>NaN</td>\n",
              "      <td>NaN</td>\n",
              "      <td>NaN</td>\n",
              "    </tr>\n",
              "    <tr>\n",
              "      <th>4</th>\n",
              "      <td>4</td>\n",
              "      <td>2.0</td>\n",
              "      <td>female</td>\n",
              "      <td>French Bulldog Mix</td>\n",
              "      <td>2019-12-10</td>\n",
              "      <td>2019-12-11</td>\n",
              "      <td>2019-12-11</td>\n",
              "      <td>black</td>\n",
              "      <td>short</td>\n",
              "      <td>small</td>\n",
              "      <td>no</td>\n",
              "      <td>NaN</td>\n",
              "      <td>NaN</td>\n",
              "      <td>NaN</td>\n",
              "      <td>NaN</td>\n",
              "      <td>NaN</td>\n",
              "      <td>NaN</td>\n",
              "      <td>NaN</td>\n",
              "    </tr>\n",
              "    <tr>\n",
              "      <th>...</th>\n",
              "      <td>...</td>\n",
              "      <td>...</td>\n",
              "      <td>...</td>\n",
              "      <td>...</td>\n",
              "      <td>...</td>\n",
              "      <td>...</td>\n",
              "      <td>...</td>\n",
              "      <td>...</td>\n",
              "      <td>...</td>\n",
              "      <td>...</td>\n",
              "      <td>...</td>\n",
              "      <td>...</td>\n",
              "      <td>...</td>\n",
              "      <td>...</td>\n",
              "      <td>...</td>\n",
              "      <td>...</td>\n",
              "      <td>...</td>\n",
              "      <td>...</td>\n",
              "    </tr>\n",
              "    <tr>\n",
              "      <th>2929</th>\n",
              "      <td>2929</td>\n",
              "      <td>17.0</td>\n",
              "      <td>male</td>\n",
              "      <td>Unknown Mix</td>\n",
              "      <td>2003-12-25</td>\n",
              "      <td>2003-12-25</td>\n",
              "      <td>2006-03-22</td>\n",
              "      <td>yellow-brown</td>\n",
              "      <td>short</td>\n",
              "      <td>medium</td>\n",
              "      <td>no</td>\n",
              "      <td>no</td>\n",
              "      <td>yes</td>\n",
              "      <td>yes</td>\n",
              "      <td>no</td>\n",
              "      <td>yes</td>\n",
              "      <td>no</td>\n",
              "      <td>garden</td>\n",
              "    </tr>\n",
              "    <tr>\n",
              "      <th>2930</th>\n",
              "      <td>2930</td>\n",
              "      <td>17.0</td>\n",
              "      <td>female</td>\n",
              "      <td>Staffordshire Terrier Mix</td>\n",
              "      <td>2004-08-27</td>\n",
              "      <td>2004-08-27</td>\n",
              "      <td>2005-07-08</td>\n",
              "      <td>striped</td>\n",
              "      <td>short</td>\n",
              "      <td>large</td>\n",
              "      <td>yes</td>\n",
              "      <td>NaN</td>\n",
              "      <td>NaN</td>\n",
              "      <td>NaN</td>\n",
              "      <td>NaN</td>\n",
              "      <td>NaN</td>\n",
              "      <td>NaN</td>\n",
              "      <td>NaN</td>\n",
              "    </tr>\n",
              "    <tr>\n",
              "      <th>2931</th>\n",
              "      <td>2931</td>\n",
              "      <td>18.0</td>\n",
              "      <td>male</td>\n",
              "      <td>Unknown Mix</td>\n",
              "      <td>2005-09-21</td>\n",
              "      <td>2005-09-21</td>\n",
              "      <td>2005-10-26</td>\n",
              "      <td>black</td>\n",
              "      <td>short</td>\n",
              "      <td>medium</td>\n",
              "      <td>no</td>\n",
              "      <td>NaN</td>\n",
              "      <td>NaN</td>\n",
              "      <td>NaN</td>\n",
              "      <td>NaN</td>\n",
              "      <td>NaN</td>\n",
              "      <td>NaN</td>\n",
              "      <td>NaN</td>\n",
              "    </tr>\n",
              "    <tr>\n",
              "      <th>2932</th>\n",
              "      <td>2932</td>\n",
              "      <td>17.0</td>\n",
              "      <td>male</td>\n",
              "      <td>Unknown Mix</td>\n",
              "      <td>2004-11-27</td>\n",
              "      <td>2004-11-27</td>\n",
              "      <td>2005-05-02</td>\n",
              "      <td>black and brown</td>\n",
              "      <td>medium</td>\n",
              "      <td>medium</td>\n",
              "      <td>no</td>\n",
              "      <td>NaN</td>\n",
              "      <td>NaN</td>\n",
              "      <td>NaN</td>\n",
              "      <td>NaN</td>\n",
              "      <td>NaN</td>\n",
              "      <td>NaN</td>\n",
              "      <td>NaN</td>\n",
              "    </tr>\n",
              "    <tr>\n",
              "      <th>2933</th>\n",
              "      <td>2933</td>\n",
              "      <td>16.0</td>\n",
              "      <td>male</td>\n",
              "      <td>German Shepherd Dog, Hound Mix</td>\n",
              "      <td>2005-04-02</td>\n",
              "      <td>2005-04-02</td>\n",
              "      <td>2005-06-30</td>\n",
              "      <td>sable</td>\n",
              "      <td>short</td>\n",
              "      <td>medium</td>\n",
              "      <td>yes</td>\n",
              "      <td>NaN</td>\n",
              "      <td>yes</td>\n",
              "      <td>NaN</td>\n",
              "      <td>yes</td>\n",
              "      <td>yes</td>\n",
              "      <td>NaN</td>\n",
              "      <td>both flat and garden</td>\n",
              "    </tr>\n",
              "  </tbody>\n",
              "</table>\n",
              "<p>2934 rows × 18 columns</p>\n",
              "</div>"
            ],
            "text/plain": [
              "        ID   age     sex  ... get_along_females get_along_cats               keep_in\n",
              "0        0   0.0  female  ...               NaN            NaN                   NaN\n",
              "1        1   0.0  female  ...               yes            yes                   NaN\n",
              "2        2   4.0    male  ...               NaN            NaN                   NaN\n",
              "3        3   1.0    male  ...               NaN            NaN                   NaN\n",
              "4        4   2.0  female  ...               NaN            NaN                   NaN\n",
              "...    ...   ...     ...  ...               ...            ...                   ...\n",
              "2929  2929  17.0    male  ...               yes             no                garden\n",
              "2930  2930  17.0  female  ...               NaN            NaN                   NaN\n",
              "2931  2931  18.0    male  ...               NaN            NaN                   NaN\n",
              "2932  2932  17.0    male  ...               NaN            NaN                   NaN\n",
              "2933  2933  16.0    male  ...               yes            NaN  both flat and garden\n",
              "\n",
              "[2934 rows x 18 columns]"
            ]
          },
          "metadata": {
            "tags": []
          },
          "execution_count": 6
        }
      ]
    },
    {
      "cell_type": "code",
      "metadata": {
        "id": "95jOdsGjxrQh",
        "colab_type": "code",
        "outputId": "60832b06-9f3b-4d1a-99fe-d640506a6dec",
        "colab": {
          "base_uri": "https://localhost:8080/",
          "height": 455
        }
      },
      "source": [
        "adoption.groupby('age')['ID'].count().sort_values(ascending = False).head(10).plot(kind = 'bar', color = 'cyan', figsize=(10,7))\n",
        "plt.xticks(rotation=45, ha=\"right\")\n",
        "plt.xlabel('Age')\n",
        "plt.ylabel('Number of dogs adopted')\n",
        "plt.show()"
      ],
      "execution_count": 7,
      "outputs": [
        {
          "output_type": "display_data",
          "data": {
            "image/png": "[encoded data removed]",
            "text/plain": [
              "<Figure size 720x504 with 1 Axes>"
            ]
          },
          "metadata": {
            "tags": [],
            "needs_background": "light"
          }
        }
      ]
    },
    {
      "cell_type": "code",
      "metadata": {
        "id": "OBtmV7CJyBua",
        "colab_type": "code",
        "outputId": "734cbf13-68a7-4575-94e3-1b9fdcab3ccb",
        "colab": {
          "base_uri": "https://localhost:8080/",
          "height": 539
        }
      },
      "source": [
        "adoption.groupby('breed')['ID'].count().sort_values(ascending=False).head(10).plot(kind = 'bar', figsize=(10,7), color ='purple' )\n",
        "plt.xticks(rotation=45, ha=\"right\")\n",
        "plt.xlabel('Breed')\n",
        "plt.ylabel('Number of dogs adopted')\n",
        "plt.show()\n"
      ],
      "execution_count": 8,
      "outputs": [
        {
          "output_type": "display_data",
          "data": {
            "image/png": "[encoded data removed]",
            "text/plain": [
              "<Figure size 720x504 with 1 Axes>"
            ]
          },
          "metadata": {
            "tags": [],
            "needs_background": "light"
          }
        }
      ]
    },
    {
      "cell_type": "code",
      "metadata": {
        "id": "015TKdA1RNfe",
        "colab_type": "code",
        "colab": {
          "base_uri": "https://localhost:8080/",
          "height": 359
        },
        "outputId": "2cb59a07-74be-4037-f526-929b116dd0ec"
      },
      "source": [
        "aggregate_size_coat_and_color = adoption.groupby(['coat', 'size', 'color'])['ID'].count().sort_values(ascending=False).reset_index().head(10)\n",
        "aggregate_size_coat_and_color.rename(columns={'ID': 'Total'})"
      ],
      "execution_count": 18,
      "outputs": [
        {
          "output_type": "execute_result",
          "data": {
            "text/html": [
              "<div>\n",
              "<style scoped>\n",
              "    .dataframe tbody tr th:only-of-type {\n",
              "        vertical-align: middle;\n",
              "    }\n",
              "\n",
              "    .dataframe tbody tr th {\n",
              "        vertical-align: top;\n",
              "    }\n",
              "\n",
              "    .dataframe thead th {\n",
              "        text-align: right;\n",
              "    }\n",
              "</style>\n",
              "<table border=\"1\" class=\"dataframe\">\n",
              "  <thead>\n",
              "    <tr style=\"text-align: right;\">\n",
              "      <th></th>\n",
              "      <th>coat</th>\n",
              "      <th>size</th>\n",
              "      <th>color</th>\n",
              "      <th>Total</th>\n",
              "    </tr>\n",
              "  </thead>\n",
              "  <tbody>\n",
              "    <tr>\n",
              "      <th>0</th>\n",
              "      <td>short</td>\n",
              "      <td>medium</td>\n",
              "      <td>black</td>\n",
              "      <td>249</td>\n",
              "    </tr>\n",
              "    <tr>\n",
              "      <th>1</th>\n",
              "      <td>short</td>\n",
              "      <td>medium</td>\n",
              "      <td>brown</td>\n",
              "      <td>141</td>\n",
              "    </tr>\n",
              "    <tr>\n",
              "      <th>2</th>\n",
              "      <td>short</td>\n",
              "      <td>medium</td>\n",
              "      <td>black and brown</td>\n",
              "      <td>133</td>\n",
              "    </tr>\n",
              "    <tr>\n",
              "      <th>3</th>\n",
              "      <td>medium</td>\n",
              "      <td>medium</td>\n",
              "      <td>black</td>\n",
              "      <td>116</td>\n",
              "    </tr>\n",
              "    <tr>\n",
              "      <th>4</th>\n",
              "      <td>short</td>\n",
              "      <td>medium</td>\n",
              "      <td>yellow-brown</td>\n",
              "      <td>113</td>\n",
              "    </tr>\n",
              "    <tr>\n",
              "      <th>5</th>\n",
              "      <td>short</td>\n",
              "      <td>medium</td>\n",
              "      <td>black and white</td>\n",
              "      <td>93</td>\n",
              "    </tr>\n",
              "    <tr>\n",
              "      <th>6</th>\n",
              "      <td>short</td>\n",
              "      <td>medium</td>\n",
              "      <td>apricot</td>\n",
              "      <td>74</td>\n",
              "    </tr>\n",
              "    <tr>\n",
              "      <th>7</th>\n",
              "      <td>short</td>\n",
              "      <td>medium</td>\n",
              "      <td>black and tan</td>\n",
              "      <td>68</td>\n",
              "    </tr>\n",
              "    <tr>\n",
              "      <th>8</th>\n",
              "      <td>short</td>\n",
              "      <td>medium</td>\n",
              "      <td>brown and white</td>\n",
              "      <td>65</td>\n",
              "    </tr>\n",
              "    <tr>\n",
              "      <th>9</th>\n",
              "      <td>short</td>\n",
              "      <td>medium</td>\n",
              "      <td>striped</td>\n",
              "      <td>59</td>\n",
              "    </tr>\n",
              "  </tbody>\n",
              "</table>\n",
              "</div>"
            ],
            "text/plain": [
              "     coat    size            color  Total\n",
              "0   short  medium            black    249\n",
              "1   short  medium            brown    141\n",
              "2   short  medium  black and brown    133\n",
              "3  medium  medium            black    116\n",
              "4   short  medium     yellow-brown    113\n",
              "5   short  medium  black and white     93\n",
              "6   short  medium          apricot     74\n",
              "7   short  medium    black and tan     68\n",
              "8   short  medium  brown and white     65\n",
              "9   short  medium          striped     59"
            ]
          },
          "metadata": {
            "tags": []
          },
          "execution_count": 18
        }
      ]
    },
    {
      "cell_type": "code",
      "metadata": {
        "id": "i-1cQJC_XFLU",
        "colab_type": "code",
        "colab": {
          "base_uri": "https://localhost:8080/",
          "height": 629
        },
        "outputId": "ecd1a5ef-532e-408f-c99c-bb8fa0f2bcb5"
      },
      "source": [
        "x_axis_labels = []\n",
        "\n",
        "for index, row in aggregate_size_coat_and_color.iterrows():\n",
        "    x_axis_labels.append(row['coat'] + '/ ' + row['size'] + '/ ' + row['color'])\n",
        "\n",
        "fig, ax = plt.subplots(figsize=(12,8))\n",
        "aggregate_size_coat_and_color.plot( ax = ax, kind = 'bar', color ='pink')\n",
        "ax.set_xticklabels(x_axis_labels)\n",
        "plt.xticks(rotation=70)\n",
        "plt.ylabel('Number of dogs adopted')\n",
        "plt.show()\n",
        " \n"
      ],
      "execution_count": 41,
      "outputs": [
        {
          "output_type": "display_data",
          "data": {
            "image/png": "[encoded data removed]",
            "text/plain": [
              "<Figure size 864x576 with 1 Axes>"
            ]
          },
          "metadata": {
            "tags": [],
            "needs_background": "light"
          }
        }
      ]
    },
    {
      "cell_type": "code",
      "metadata": {
        "id": "9TTyt9Xxy-_e",
        "colab_type": "code",
        "outputId": "a60e9cdc-405a-4179-e33b-83d0f9b69e29",
        "colab": {
          "base_uri": "https://localhost:8080/",
          "height": 297
        }
      },
      "source": [
        "aggregate_sex_and_neureted = adoption.groupby(['neutered', 'sex', 'housebroken'])['ID'].count().sort_values(ascending=False).reset_index()\n",
        "aggregate_sex_and_neureted.rename(columns={'ID': 'Total'})\n",
        "\n",
        " "
      ],
      "execution_count": 42,
      "outputs": [
        {
          "output_type": "execute_result",
          "data": {
            "text/html": [
              "<div>\n",
              "<style scoped>\n",
              "    .dataframe tbody tr th:only-of-type {\n",
              "        vertical-align: middle;\n",
              "    }\n",
              "\n",
              "    .dataframe tbody tr th {\n",
              "        vertical-align: top;\n",
              "    }\n",
              "\n",
              "    .dataframe thead th {\n",
              "        text-align: right;\n",
              "    }\n",
              "</style>\n",
              "<table border=\"1\" class=\"dataframe\">\n",
              "  <thead>\n",
              "    <tr style=\"text-align: right;\">\n",
              "      <th></th>\n",
              "      <th>neutered</th>\n",
              "      <th>sex</th>\n",
              "      <th>housebroken</th>\n",
              "      <th>Total</th>\n",
              "    </tr>\n",
              "  </thead>\n",
              "  <tbody>\n",
              "    <tr>\n",
              "      <th>0</th>\n",
              "      <td>yes</td>\n",
              "      <td>female</td>\n",
              "      <td>yes</td>\n",
              "      <td>110</td>\n",
              "    </tr>\n",
              "    <tr>\n",
              "      <th>1</th>\n",
              "      <td>yes</td>\n",
              "      <td>male</td>\n",
              "      <td>yes</td>\n",
              "      <td>79</td>\n",
              "    </tr>\n",
              "    <tr>\n",
              "      <th>2</th>\n",
              "      <td>no</td>\n",
              "      <td>male</td>\n",
              "      <td>yes</td>\n",
              "      <td>72</td>\n",
              "    </tr>\n",
              "    <tr>\n",
              "      <th>3</th>\n",
              "      <td>no</td>\n",
              "      <td>female</td>\n",
              "      <td>yes</td>\n",
              "      <td>33</td>\n",
              "    </tr>\n",
              "    <tr>\n",
              "      <th>4</th>\n",
              "      <td>no</td>\n",
              "      <td>male</td>\n",
              "      <td>no</td>\n",
              "      <td>22</td>\n",
              "    </tr>\n",
              "    <tr>\n",
              "      <th>5</th>\n",
              "      <td>no</td>\n",
              "      <td>female</td>\n",
              "      <td>no</td>\n",
              "      <td>10</td>\n",
              "    </tr>\n",
              "    <tr>\n",
              "      <th>6</th>\n",
              "      <td>yes</td>\n",
              "      <td>male</td>\n",
              "      <td>no</td>\n",
              "      <td>9</td>\n",
              "    </tr>\n",
              "    <tr>\n",
              "      <th>7</th>\n",
              "      <td>yes</td>\n",
              "      <td>female</td>\n",
              "      <td>no</td>\n",
              "      <td>3</td>\n",
              "    </tr>\n",
              "  </tbody>\n",
              "</table>\n",
              "</div>"
            ],
            "text/plain": [
              "  neutered     sex housebroken  Total\n",
              "0      yes  female         yes    110\n",
              "1      yes    male         yes     79\n",
              "2       no    male         yes     72\n",
              "3       no  female         yes     33\n",
              "4       no    male          no     22\n",
              "5       no  female          no     10\n",
              "6      yes    male          no      9\n",
              "7      yes  female          no      3"
            ]
          },
          "metadata": {
            "tags": []
          },
          "execution_count": 42
        }
      ]
    },
    {
      "cell_type": "code",
      "metadata": {
        "id": "WDl3kHDUekwi",
        "colab_type": "code",
        "colab": {
          "base_uri": "https://localhost:8080/",
          "height": 567
        },
        "outputId": "ca377770-c54f-4534-959f-313d9d1c357e"
      },
      "source": [
        "x_axis_labels = []\n",
        "\n",
        "for index, row in aggregate_sex_and_neureted.iterrows():\n",
        "    x_axis_labels.append(row['neutered'] + '/ ' + row['sex'] + '/ ' + row['housebroken'])\n",
        "\n",
        "fig, ax = plt.subplots(figsize=(12,8))\n",
        "aggregate_sex_and_neureted.plot( ax = ax, kind = 'bar', color ='gray')\n",
        "ax.set_xticklabels(x_axis_labels)\n",
        "plt.xticks(rotation=70)\n",
        "plt.xlabel('Neureted, sex and housebroken')\n",
        "plt.ylabel('Number of dogs adopted')\n",
        "plt.show()"
      ],
      "execution_count": 44,
      "outputs": [
        {
          "output_type": "display_data",
          "data": {
            "image/png": "[encoded data removed]",
            "text/plain": [
              "<Figure size 864x576 with 1 Axes>"
            ]
          },
          "metadata": {
            "tags": [],
            "needs_background": "light"
          }
        }
      ]
    },
    {
      "cell_type": "code",
      "metadata": {
        "id": "3YTvGgMOB-7x",
        "colab_type": "code",
        "outputId": "9ae09bf8-120b-4881-a025-7e62bf737668",
        "colab": {
          "base_uri": "https://localhost:8080/",
          "height": 142
        }
      },
      "source": [
        " aggregate_likespeople_and_children = adoption.groupby(['likes_people', 'likes_children'])['ID'].count().sort_values(ascending=False).reset_index()\n",
        " aggregate_likespeople_and_children.rename(columns={'ID': 'Total'})"
      ],
      "execution_count": 12,
      "outputs": [
        {
          "output_type": "execute_result",
          "data": {
            "text/html": [
              "<div>\n",
              "<style scoped>\n",
              "    .dataframe tbody tr th:only-of-type {\n",
              "        vertical-align: middle;\n",
              "    }\n",
              "\n",
              "    .dataframe tbody tr th {\n",
              "        vertical-align: top;\n",
              "    }\n",
              "\n",
              "    .dataframe thead th {\n",
              "        text-align: right;\n",
              "    }\n",
              "</style>\n",
              "<table border=\"1\" class=\"dataframe\">\n",
              "  <thead>\n",
              "    <tr style=\"text-align: right;\">\n",
              "      <th></th>\n",
              "      <th>likes_people</th>\n",
              "      <th>likes_children</th>\n",
              "      <th>Total</th>\n",
              "    </tr>\n",
              "  </thead>\n",
              "  <tbody>\n",
              "    <tr>\n",
              "      <th>0</th>\n",
              "      <td>yes</td>\n",
              "      <td>yes</td>\n",
              "      <td>1118</td>\n",
              "    </tr>\n",
              "    <tr>\n",
              "      <th>1</th>\n",
              "      <td>yes</td>\n",
              "      <td>no</td>\n",
              "      <td>40</td>\n",
              "    </tr>\n",
              "    <tr>\n",
              "      <th>2</th>\n",
              "      <td>no</td>\n",
              "      <td>no</td>\n",
              "      <td>5</td>\n",
              "    </tr>\n",
              "  </tbody>\n",
              "</table>\n",
              "</div>"
            ],
            "text/plain": [
              "  likes_people likes_children  Total\n",
              "0          yes            yes   1118\n",
              "1          yes             no     40\n",
              "2           no             no      5"
            ]
          },
          "metadata": {
            "tags": []
          },
          "execution_count": 12
        }
      ]
    },
    {
      "cell_type": "code",
      "metadata": {
        "id": "8RmrsHpLfOIE",
        "colab_type": "code",
        "colab": {
          "base_uri": "https://localhost:8080/",
          "height": 225
        },
        "outputId": "10c48e8a-a0c3-4d23-c146-433baf20dbbd"
      },
      "source": [
        "x_axis_labels = []\n",
        "\n",
        "for index, row in aggregate_likespeople_and_children.iterrows():\n",
        "    x_axis_labels.append(row['likes_people'] + ' and ' + row['likes_children'])\n",
        "\n",
        "fig, ax = plt.subplots(figsize=(7,3))\n",
        "aggregate_likespeople_and_children.plot( ax = ax, kind = 'bar', color ='yellow')\n",
        "ax.set_xticklabels(x_axis_labels)\n",
        "plt.xticks(rotation=0)\n",
        "plt.xlabel('Likes people and children?')\n",
        "plt.ylabel('Number of dogs adopted')\n",
        "plt.show()"
      ],
      "execution_count": 73,
      "outputs": [
        {
          "output_type": "display_data",
          "data": {
            "image/png": "[encoded data removed]",
            "text/plain": [
              "<Figure size 504x216 with 1 Axes>"
            ]
          },
          "metadata": {
            "tags": [],
            "needs_background": "light"
          }
        }
      ]
    },
    {
      "cell_type": "code",
      "metadata": {
        "id": "Tm3jSxKYDFso",
        "colab_type": "code",
        "outputId": "5d335850-7dda-430c-8678-c3cdbc05d2c9",
        "colab": {
          "base_uri": "https://localhost:8080/",
          "height": 297
        }
      },
      "source": [
        "aggregate_getalongmales_females_cats = adoption.groupby(['get_along_males', 'get_along_females', 'get_along_cats'])['ID'].count().sort_values(ascending=False).reset_index()\n",
        "aggregate_getalongmales_females_cats.rename(columns={'ID': 'Total'})"
      ],
      "execution_count": 13,
      "outputs": [
        {
          "output_type": "execute_result",
          "data": {
            "text/html": [
              "<div>\n",
              "<style scoped>\n",
              "    .dataframe tbody tr th:only-of-type {\n",
              "        vertical-align: middle;\n",
              "    }\n",
              "\n",
              "    .dataframe tbody tr th {\n",
              "        vertical-align: top;\n",
              "    }\n",
              "\n",
              "    .dataframe thead th {\n",
              "        text-align: right;\n",
              "    }\n",
              "</style>\n",
              "<table border=\"1\" class=\"dataframe\">\n",
              "  <thead>\n",
              "    <tr style=\"text-align: right;\">\n",
              "      <th></th>\n",
              "      <th>get_along_males</th>\n",
              "      <th>get_along_females</th>\n",
              "      <th>get_along_cats</th>\n",
              "      <th>Total</th>\n",
              "    </tr>\n",
              "  </thead>\n",
              "  <tbody>\n",
              "    <tr>\n",
              "      <th>0</th>\n",
              "      <td>yes</td>\n",
              "      <td>yes</td>\n",
              "      <td>yes</td>\n",
              "      <td>233</td>\n",
              "    </tr>\n",
              "    <tr>\n",
              "      <th>1</th>\n",
              "      <td>yes</td>\n",
              "      <td>yes</td>\n",
              "      <td>no</td>\n",
              "      <td>73</td>\n",
              "    </tr>\n",
              "    <tr>\n",
              "      <th>2</th>\n",
              "      <td>no</td>\n",
              "      <td>no</td>\n",
              "      <td>no</td>\n",
              "      <td>25</td>\n",
              "    </tr>\n",
              "    <tr>\n",
              "      <th>3</th>\n",
              "      <td>no</td>\n",
              "      <td>yes</td>\n",
              "      <td>no</td>\n",
              "      <td>22</td>\n",
              "    </tr>\n",
              "    <tr>\n",
              "      <th>4</th>\n",
              "      <td>no</td>\n",
              "      <td>yes</td>\n",
              "      <td>yes</td>\n",
              "      <td>7</td>\n",
              "    </tr>\n",
              "    <tr>\n",
              "      <th>5</th>\n",
              "      <td>yes</td>\n",
              "      <td>no</td>\n",
              "      <td>no</td>\n",
              "      <td>6</td>\n",
              "    </tr>\n",
              "    <tr>\n",
              "      <th>6</th>\n",
              "      <td>yes</td>\n",
              "      <td>no</td>\n",
              "      <td>yes</td>\n",
              "      <td>2</td>\n",
              "    </tr>\n",
              "    <tr>\n",
              "      <th>7</th>\n",
              "      <td>no</td>\n",
              "      <td>no</td>\n",
              "      <td>yes</td>\n",
              "      <td>2</td>\n",
              "    </tr>\n",
              "  </tbody>\n",
              "</table>\n",
              "</div>"
            ],
            "text/plain": [
              "  get_along_males get_along_females get_along_cats  Total\n",
              "0             yes               yes            yes    233\n",
              "1             yes               yes             no     73\n",
              "2              no                no             no     25\n",
              "3              no               yes             no     22\n",
              "4              no               yes            yes      7\n",
              "5             yes                no             no      6\n",
              "6             yes                no            yes      2\n",
              "7              no                no            yes      2"
            ]
          },
          "metadata": {
            "tags": []
          },
          "execution_count": 13
        }
      ]
    },
    {
      "cell_type": "code",
      "metadata": {
        "id": "45mu-1APgOxY",
        "colab_type": "code",
        "colab": {
          "base_uri": "https://localhost:8080/",
          "height": 564
        },
        "outputId": "d82f81e3-1b8f-4abe-8f1c-a00e10634b88"
      },
      "source": [
        "x_axis_labels = []\n",
        "\n",
        "for index, row in aggregate_getalongmales_females_cats.iterrows():\n",
        "    x_axis_labels.append(row['get_along_males'] + '/ ' + row['get_along_females'] + ' and ' + row['get_along_cats'])\n",
        "\n",
        "fig, ax = plt.subplots(figsize=(12,8))\n",
        "aggregate_getalongmales_females_cats.plot( ax = ax, kind = 'bar', color ='black')\n",
        "ax.set_xticklabels(x_axis_labels)\n",
        "plt.xticks(rotation=60)\n",
        "plt.xlabel('Get along males, females and cats?')\n",
        "plt.ylabel('Number of dogs adopted')\n",
        "plt.show()"
      ],
      "execution_count": 70,
      "outputs": [
        {
          "output_type": "display_data",
          "data": {
            "image/png": "[encoded data removed]",
            "text/plain": [
              "<Figure size 864x576 with 1 Axes>"
            ]
          },
          "metadata": {
            "tags": [],
            "needs_background": "light"
          }
        }
      ]
    },
    {
      "cell_type": "code",
      "metadata": {
        "id": "BB8Tb5y8Do4c",
        "colab_type": "code",
        "outputId": "dd39ff45-6abb-4a21-9d26-4b93841a8e3b",
        "colab": {
          "base_uri": "https://localhost:8080/",
          "height": 142
        }
      },
      "source": [
        "aggregate_dogs_keepin = adoption.groupby('keep_in')['ID'].count().sort_values(ascending=False).reset_index()\n",
        "aggregate_dogs_keepin.rename(columns={'ID': 'Total'})"
      ],
      "execution_count": 63,
      "outputs": [
        {
          "output_type": "execute_result",
          "data": {
            "text/html": [
              "<div>\n",
              "<style scoped>\n",
              "    .dataframe tbody tr th:only-of-type {\n",
              "        vertical-align: middle;\n",
              "    }\n",
              "\n",
              "    .dataframe tbody tr th {\n",
              "        vertical-align: top;\n",
              "    }\n",
              "\n",
              "    .dataframe thead th {\n",
              "        text-align: right;\n",
              "    }\n",
              "</style>\n",
              "<table border=\"1\" class=\"dataframe\">\n",
              "  <thead>\n",
              "    <tr style=\"text-align: right;\">\n",
              "      <th></th>\n",
              "      <th>keep_in</th>\n",
              "      <th>Total</th>\n",
              "    </tr>\n",
              "  </thead>\n",
              "  <tbody>\n",
              "    <tr>\n",
              "      <th>0</th>\n",
              "      <td>both flat and garden</td>\n",
              "      <td>1223</td>\n",
              "    </tr>\n",
              "    <tr>\n",
              "      <th>1</th>\n",
              "      <td>garden</td>\n",
              "      <td>510</td>\n",
              "    </tr>\n",
              "    <tr>\n",
              "      <th>2</th>\n",
              "      <td>flat</td>\n",
              "      <td>181</td>\n",
              "    </tr>\n",
              "  </tbody>\n",
              "</table>\n",
              "</div>"
            ],
            "text/plain": [
              "                keep_in  Total\n",
              "0  both flat and garden   1223\n",
              "1                garden    510\n",
              "2                  flat    181"
            ]
          },
          "metadata": {
            "tags": []
          },
          "execution_count": 63
        }
      ]
    },
    {
      "cell_type": "code",
      "metadata": {
        "id": "0M7mG92DhC2v",
        "colab_type": "code",
        "colab": {
          "base_uri": "https://localhost:8080/",
          "height": 279
        },
        "outputId": "edbf507d-d109-4a06-fe60-fac5b2ccc05e"
      },
      "source": [
        "x_axis_labels = []\n",
        "\n",
        "for index, row in aggregate_dogs_keepin.iterrows():\n",
        "    x_axis_labels.append(row['keep_in'])\n",
        "\n",
        "fig, ax = plt.subplots(figsize=(7,4))\n",
        "aggregate_dogs_keepin.plot( ax = ax, kind = 'bar', color ='black')\n",
        "ax.set_xticklabels(x_axis_labels)\n",
        "plt.xticks(rotation=0)\n",
        "plt.xlabel('Keep in')\n",
        "plt.ylabel('Number of dogs adopted')\n",
        "plt.show()"
      ],
      "execution_count": 68,
      "outputs": [
        {
          "output_type": "display_data",
          "data": {
            "image/png": "[encoded data removed]",
            "text/plain": [
              "<Figure size 504x288 with 1 Axes>"
            ]
          },
          "metadata": {
            "tags": [],
            "needs_background": "light"
          }
        }
      ]
    },
    {
      "cell_type": "code",
      "metadata": {
        "id": "pmTluZ-0iF1T",
        "colab_type": "code",
        "colab": {}
      },
      "source": [
        "adoption['adoptable_from'] = pd.to_datetime(adoption['adoptable_from'], errors='coerce') #convertendo string em data \n",
        "adoption_year = adoption['adoptable_from'].dt.year #extraindo apenas o ano da data\n",
        "adoption_year"
      ],
      "execution_count": 0,
      "outputs": []
    },
    {
      "cell_type": "code",
      "metadata": {
        "id": "LX9G2ztbkssL",
        "colab_type": "code",
        "colab": {}
      },
      "source": [
        "adoption_per_year = adoption.groupby(adoption_year)['ID'].count()\n",
        "adoption_per_year"
      ],
      "execution_count": 0,
      "outputs": []
    },
    {
      "cell_type": "code",
      "metadata": {
        "id": "emq5a_lZsgfX",
        "colab_type": "code",
        "colab": {
          "base_uri": "https://localhost:8080/",
          "height": 443
        },
        "outputId": "4a694acf-a226-4630-ef90-178d252e129b"
      },
      "source": [
        "plt.figure(figsize=(13,7))\n",
        "plt.plot(adoption_per_year.index, adoption_per_year.values, color='black')\n",
        "plt.scatter(x = adoption_per_year.index , y= adoption_per_year.values, color='red')\n",
        "\n",
        "plt.xticks(adoption_per_year.index, adoption_per_year.index, rotation=45)\n",
        " #defini x e y pq printei o adoption_per_year e a primeira coluna é index e a segunda é values\n",
        "plt.show()"
      ],
      "execution_count": 117,
      "outputs": [
        {
          "output_type": "display_data",
          "data": {
            "image/png": "[encoded data removed]",
            "text/plain": [
              "<Figure size 936x504 with 1 Axes>"
            ]
          },
          "metadata": {
            "tags": [],
            "needs_background": "light"
          }
        }
      ]
    },
    {
      "cell_type": "code",
      "metadata": {
        "id": "_0GzxliAs1yq",
        "colab_type": "code",
        "colab": {
          "base_uri": "https://localhost:8080/",
          "height": 221
        },
        "outputId": "cfe656f2-a40a-4de2-d166-e85faa7247e9"
      },
      "source": [
        "adoption_month = adoption['adoptable_from'].dt.month #extraindo apenas o ano da data\n",
        "adoption_month"
      ],
      "execution_count": 118,
      "outputs": [
        {
          "output_type": "execute_result",
          "data": {
            "text/plain": [
              "0       12\n",
              "1       12\n",
              "2       12\n",
              "3       12\n",
              "4       12\n",
              "        ..\n",
              "2929    12\n",
              "2930     8\n",
              "2931     9\n",
              "2932    11\n",
              "2933     4\n",
              "Name: adoptable_from, Length: 2934, dtype: int64"
            ]
          },
          "metadata": {
            "tags": []
          },
          "execution_count": 118
        }
      ]
    },
    {
      "cell_type": "code",
      "metadata": {
        "id": "ogaBbfY_tQjO",
        "colab_type": "code",
        "colab": {}
      },
      "source": [
        "adoption_per_month = adoption.groupby(adoption_month)['ID'].count()\n",
        "adoption_per_month"
      ],
      "execution_count": 0,
      "outputs": []
    },
    {
      "cell_type": "code",
      "metadata": {
        "id": "hrHZ0kwstegY",
        "colab_type": "code",
        "colab": {
          "base_uri": "https://localhost:8080/",
          "height": 449
        },
        "outputId": "3e65d916-99ae-4c59-f5a0-5375224c0f1f"
      },
      "source": [
        "plt.figure(figsize=(13,7))\n",
        "plt.plot(adoption_per_month.index, adoption_per_month.values, color='black')\n",
        "plt.scatter(x = adoption_per_month.index , y= adoption_per_month.values, color='red')\n",
        "\n",
        "plt.xticks(adoption_per_month.index, adoption_per_month.index, rotation=45)\n",
        "plt.xlabel('Months')\n",
        "plt.ylabel('Number of dogs adopted')\n",
        "plt.show()"
      ],
      "execution_count": 121,
      "outputs": [
        {
          "output_type": "display_data",
          "data": {
            "image/png": "[encoded data removed]",
            "text/plain": [
              "<Figure size 936x504 with 1 Axes>"
            ]
          },
          "metadata": {
            "tags": [],
            "needs_background": "light"
          }
        }
      ]
    }
  ]
}